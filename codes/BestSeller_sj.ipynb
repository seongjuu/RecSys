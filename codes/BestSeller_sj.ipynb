{
 "cells": [
  {
   "cell_type": "code",
   "execution_count": 1,
   "metadata": {},
   "outputs": [],
   "source": [
    "import pandas as pd\n",
    "import numpy as np"
   ]
  },
  {
   "cell_type": "code",
   "execution_count": 2,
   "metadata": {},
   "outputs": [
    {
     "data": {
      "text/html": [
       "<div>\n",
       "<style scoped>\n",
       "    .dataframe tbody tr th:only-of-type {\n",
       "        vertical-align: middle;\n",
       "    }\n",
       "\n",
       "    .dataframe tbody tr th {\n",
       "        vertical-align: top;\n",
       "    }\n",
       "\n",
       "    .dataframe thead th {\n",
       "        text-align: right;\n",
       "    }\n",
       "</style>\n",
       "<table border=\"1\" class=\"dataframe\">\n",
       "  <thead>\n",
       "    <tr style=\"text-align: right;\">\n",
       "      <th></th>\n",
       "      <th>item_id</th>\n",
       "      <th>user_id</th>\n",
       "      <th>rating</th>\n",
       "      <th>timestamp</th>\n",
       "    </tr>\n",
       "  </thead>\n",
       "  <tbody>\n",
       "    <tr>\n",
       "      <th>0</th>\n",
       "      <td>A0955928C2RRWOWZN7UC</td>\n",
       "      <td>B00191WVF6</td>\n",
       "      <td>4.0</td>\n",
       "      <td>1487289600</td>\n",
       "    </tr>\n",
       "    <tr>\n",
       "      <th>1</th>\n",
       "      <td>A0955928C2RRWOWZN7UC</td>\n",
       "      <td>B005WY3TMA</td>\n",
       "      <td>4.0</td>\n",
       "      <td>1434240000</td>\n",
       "    </tr>\n",
       "    <tr>\n",
       "      <th>2</th>\n",
       "      <td>A0955928C2RRWOWZN7UC</td>\n",
       "      <td>B0090XWU8S</td>\n",
       "      <td>4.0</td>\n",
       "      <td>1492819200</td>\n",
       "    </tr>\n",
       "    <tr>\n",
       "      <th>3</th>\n",
       "      <td>A0955928C2RRWOWZN7UC</td>\n",
       "      <td>B00FXYTLIK</td>\n",
       "      <td>4.0</td>\n",
       "      <td>1436486400</td>\n",
       "    </tr>\n",
       "    <tr>\n",
       "      <th>4</th>\n",
       "      <td>A0955928C2RRWOWZN7UC</td>\n",
       "      <td>B00HMZG3YS</td>\n",
       "      <td>4.0</td>\n",
       "      <td>1436486400</td>\n",
       "    </tr>\n",
       "  </tbody>\n",
       "</table>\n",
       "</div>"
      ],
      "text/plain": [
       "                item_id     user_id  rating   timestamp\n",
       "0  A0955928C2RRWOWZN7UC  B00191WVF6     4.0  1487289600\n",
       "1  A0955928C2RRWOWZN7UC  B005WY3TMA     4.0  1434240000\n",
       "2  A0955928C2RRWOWZN7UC  B0090XWU8S     4.0  1492819200\n",
       "3  A0955928C2RRWOWZN7UC  B00FXYTLIK     4.0  1436486400\n",
       "4  A0955928C2RRWOWZN7UC  B00HMZG3YS     4.0  1436486400"
      ]
     },
     "execution_count": 2,
     "metadata": {},
     "output_type": "execute_result"
    }
   ],
   "source": [
    "ratings = pd.read_csv('/home/sjkim/recommendSystem/finalproject/Amazon_ratings.csv', encoding='latin-1')\n",
    "ratings.head()"
   ]
  },
  {
   "cell_type": "code",
   "execution_count": 3,
   "metadata": {},
   "outputs": [
    {
     "data": {
      "text/plain": [
       "99742"
      ]
     },
     "execution_count": 3,
     "metadata": {},
     "output_type": "execute_result"
    }
   ],
   "source": [
    "len(ratings)"
   ]
  },
  {
   "cell_type": "code",
   "execution_count": 8,
   "metadata": {},
   "outputs": [
    {
     "data": {
      "text/html": [
       "<div>\n",
       "<style scoped>\n",
       "    .dataframe tbody tr th:only-of-type {\n",
       "        vertical-align: middle;\n",
       "    }\n",
       "\n",
       "    .dataframe tbody tr th {\n",
       "        vertical-align: top;\n",
       "    }\n",
       "\n",
       "    .dataframe thead th {\n",
       "        text-align: right;\n",
       "    }\n",
       "</style>\n",
       "<table border=\"1\" class=\"dataframe\">\n",
       "  <thead>\n",
       "    <tr style=\"text-align: right;\">\n",
       "      <th></th>\n",
       "      <th>user_id</th>\n",
       "      <th>rating</th>\n",
       "      <th>timestamp</th>\n",
       "    </tr>\n",
       "    <tr>\n",
       "      <th>item_id</th>\n",
       "      <th></th>\n",
       "      <th></th>\n",
       "      <th></th>\n",
       "    </tr>\n",
       "  </thead>\n",
       "  <tbody>\n",
       "    <tr>\n",
       "      <th>A0955928C2RRWOWZN7UC</th>\n",
       "      <td>B00191WVF6</td>\n",
       "      <td>4.0</td>\n",
       "      <td>1487289600</td>\n",
       "    </tr>\n",
       "    <tr>\n",
       "      <th>A0955928C2RRWOWZN7UC</th>\n",
       "      <td>B005WY3TMA</td>\n",
       "      <td>4.0</td>\n",
       "      <td>1434240000</td>\n",
       "    </tr>\n",
       "  </tbody>\n",
       "</table>\n",
       "</div>"
      ],
      "text/plain": [
       "                         user_id  rating   timestamp\n",
       "item_id                                             \n",
       "A0955928C2RRWOWZN7UC  B00191WVF6     4.0  1487289600\n",
       "A0955928C2RRWOWZN7UC  B005WY3TMA     4.0  1434240000"
      ]
     },
     "execution_count": 8,
     "metadata": {},
     "output_type": "execute_result"
    }
   ],
   "source": [
    "items = pd.read_csv('/home/sjkim/recommendSystem/finalproject/Amazon_ratings.csv', encoding='latin-1')\n",
    "items = items.set_index('item_id')\n",
    "items.head(2)"
   ]
  },
  {
   "cell_type": "code",
   "execution_count": 10,
   "metadata": {},
   "outputs": [],
   "source": [
    "from sklearn.model_selection import train_test_split\n",
    "x = ratings.copy()\n",
    "y = ratings['user_id'] # 기존 데이터에서 각 user_id별로 train_set과 test_set의 비율을 동일하게 유지하기 위해서 user_id를 기준으로 stratified sampling 방식을 사용하기 위해서\n",
    "x_train, x_test, y_train, y_test = train_test_split(x, y, test_size=0.3, stratify=y, random_state=12) # stratify=y 있으면 오류나서 제거\n"
   ]
  },
  {
   "cell_type": "code",
   "execution_count": 11,
   "metadata": {},
   "outputs": [
    {
     "data": {
      "text/plain": [
       "item_id\n",
       "A0955928C2RRWOWZN7UC    4.000000\n",
       "A100UD67AHFODS          4.966667\n",
       "A100WO06OQR8BQ          4.153846\n",
       "A1013Q9SD2KIE1          3.692308\n",
       "A1018D502E27E6          3.727273\n",
       "                          ...   \n",
       "AZX2RDN9YXZAE           3.416667\n",
       "AZXFS8GCTSQ5R           4.055556\n",
       "AZXJJM4F1SY3            4.846154\n",
       "AZYWYG2YYXH7O           5.000000\n",
       "AZZYW4YOE1B6E           4.461538\n",
       "Name: rating, Length: 6368, dtype: float64"
      ]
     },
     "execution_count": 11,
     "metadata": {},
     "output_type": "execute_result"
    }
   ],
   "source": [
    "# ratings에 있는 평가 데이터를 아이템별 평점 평균을 구한 후 item_mean 변수에 저장\n",
    "item_mean = ratings.groupby(['item_id'])['rating'].mean()\n",
    "item_mean"
   ]
  },
  {
   "cell_type": "code",
   "execution_count": 12,
   "metadata": {},
   "outputs": [
    {
     "data": {
      "text/plain": [
       "item_id\n",
       "A5ZU5Y9O8MULS     5.0\n",
       "A1P646XPZGA4BL    5.0\n",
       "A3J18C4T2JWI2F    5.0\n",
       "A2RBO3RBHPZBAN    5.0\n",
       "A1QQ4U4RTI0A1M    5.0\n",
       "Name: rating, dtype: float64"
      ]
     },
     "execution_count": 12,
     "metadata": {},
     "output_type": "execute_result"
    }
   ],
   "source": [
    "item_sort = item_mean.sort_values(ascending=False)[:5]\n",
    "item_sort"
   ]
  },
  {
   "cell_type": "code",
   "execution_count": 13,
   "metadata": {},
   "outputs": [],
   "source": [
    "# best-seller 추천\n",
    "def recom_item(n_items):\n",
    "    item_sort = item_mean.sort_values(ascending=False)[:n_items] # movie_mean을 내림차순으로 정렬하고 상위부터 지정된 개수(n_item)만큼 item_sort에 저장\n",
    "    return list(item_sort.index)"
   ]
  },
  {
   "cell_type": "code",
   "execution_count": 14,
   "metadata": {},
   "outputs": [
    {
     "data": {
      "text/plain": [
       "['A5ZU5Y9O8MULS',\n",
       " 'A1P646XPZGA4BL',\n",
       " 'A3J18C4T2JWI2F',\n",
       " 'A2RBO3RBHPZBAN',\n",
       " 'A1QQ4U4RTI0A1M']"
      ]
     },
     "execution_count": 14,
     "metadata": {},
     "output_type": "execute_result"
    }
   ],
   "source": [
    "recom_item(5)"
   ]
  },
  {
   "cell_type": "code",
   "execution_count": 15,
   "metadata": {},
   "outputs": [
    {
     "name": "stdout",
     "output_type": "stream",
     "text": [
      "0.5854778893653736\n"
     ]
    }
   ],
   "source": [
    "# RMSE 계산\n",
    "def RMSE(y_true, y_pred):\n",
    "    import numpy as np\n",
    "    return np.sqrt(np.mean((np.array(y_true) - np.array(y_pred))**2))\n",
    "\n",
    "rmse = []                                   # 결과를 저장할 rmse 변수 초기화\n",
    "for user in set(ratings.index):             # 겹치지 않은 unique한 게 뽑힘\n",
    "    y_true = ratings.loc[user]['rating']    # 각 사용자가 평가한 모든 아이템의 평점을 y_true에 저장\n",
    "    y_pred = item_mean[ratings.loc[user]['item_id']]    # 해당 사용자가 평가한 아이템의 평균평점을 y_pred에 저장\n",
    "    accuracy = RMSE(y_true, y_pred)         # 실제 rating과 평균 rating의 RMSE 계산\n",
    "    rmse.append(accuracy)\n",
    "print(np.mean(rmse))"
   ]
  },
  {
   "cell_type": "code",
   "execution_count": null,
   "metadata": {},
   "outputs": [],
   "source": []
  }
 ],
 "metadata": {
  "kernelspec": {
   "display_name": "Python 3.7.13 ('seongju': conda)",
   "language": "python",
   "name": "python3"
  },
  "language_info": {
   "codemirror_mode": {
    "name": "ipython",
    "version": 3
   },
   "file_extension": ".py",
   "mimetype": "text/x-python",
   "name": "python",
   "nbconvert_exporter": "python",
   "pygments_lexer": "ipython3",
   "version": "3.7.9"
  },
  "orig_nbformat": 4,
  "vscode": {
   "interpreter": {
    "hash": "4ac64377bdf20d7c56505465f573d42c9a70025c609fb86d41fb4deb22be2428"
   }
  }
 },
 "nbformat": 4,
 "nbformat_minor": 2
}
