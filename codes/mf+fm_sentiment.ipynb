{
  "cells": [
    {
      "cell_type": "code",
      "execution_count": 8,
      "metadata": {
        "id": "uSrwFChcezHu"
      },
      "outputs": [],
      "source": [
        "import pandas as pd\n",
        "import numpy as np"
      ]
    },
    {
      "cell_type": "code",
      "execution_count": 9,
      "metadata": {
        "colab": {
          "base_uri": "https://localhost:8080/",
          "height": 206
        },
        "id": "bE_9lNdPe_nA",
        "outputId": "91896d54-37b7-4173-ca2e-38027865d55f"
      },
      "outputs": [
        {
          "data": {
            "text/html": [
              "<div>\n",
              "<style scoped>\n",
              "    .dataframe tbody tr th:only-of-type {\n",
              "        vertical-align: middle;\n",
              "    }\n",
              "\n",
              "    .dataframe tbody tr th {\n",
              "        vertical-align: top;\n",
              "    }\n",
              "\n",
              "    .dataframe thead th {\n",
              "        text-align: right;\n",
              "    }\n",
              "</style>\n",
              "<table border=\"1\" class=\"dataframe\">\n",
              "  <thead>\n",
              "    <tr style=\"text-align: right;\">\n",
              "      <th></th>\n",
              "      <th>user_id</th>\n",
              "      <th>item_id</th>\n",
              "      <th>votes</th>\n",
              "      <th>timestamp</th>\n",
              "      <th>rating</th>\n",
              "      <th>compound_score</th>\n",
              "    </tr>\n",
              "  </thead>\n",
              "  <tbody>\n",
              "    <tr>\n",
              "      <th>0</th>\n",
              "      <td>B00191WVF6</td>\n",
              "      <td>A0955928C2RRWOWZN7UC</td>\n",
              "      <td>0.0</td>\n",
              "      <td>2017-02-17</td>\n",
              "      <td>4.0</td>\n",
              "      <td>0.0000</td>\n",
              "    </tr>\n",
              "    <tr>\n",
              "      <th>1</th>\n",
              "      <td>B005WY3TMA</td>\n",
              "      <td>A0955928C2RRWOWZN7UC</td>\n",
              "      <td>0.0</td>\n",
              "      <td>2015-06-14</td>\n",
              "      <td>4.0</td>\n",
              "      <td>0.4404</td>\n",
              "    </tr>\n",
              "    <tr>\n",
              "      <th>2</th>\n",
              "      <td>B0090XWU8S</td>\n",
              "      <td>A0955928C2RRWOWZN7UC</td>\n",
              "      <td>0.0</td>\n",
              "      <td>2017-04-22</td>\n",
              "      <td>4.0</td>\n",
              "      <td>0.0000</td>\n",
              "    </tr>\n",
              "    <tr>\n",
              "      <th>3</th>\n",
              "      <td>B00FXYTLIK</td>\n",
              "      <td>A0955928C2RRWOWZN7UC</td>\n",
              "      <td>0.0</td>\n",
              "      <td>2015-07-10</td>\n",
              "      <td>4.0</td>\n",
              "      <td>0.7264</td>\n",
              "    </tr>\n",
              "    <tr>\n",
              "      <th>4</th>\n",
              "      <td>B00HMZG3YS</td>\n",
              "      <td>A0955928C2RRWOWZN7UC</td>\n",
              "      <td>0.0</td>\n",
              "      <td>2015-07-10</td>\n",
              "      <td>4.0</td>\n",
              "      <td>0.6369</td>\n",
              "    </tr>\n",
              "  </tbody>\n",
              "</table>\n",
              "</div>"
            ],
            "text/plain": [
              "      user_id               item_id  votes   timestamp  rating  compound_score\n",
              "0  B00191WVF6  A0955928C2RRWOWZN7UC    0.0  2017-02-17     4.0          0.0000\n",
              "1  B005WY3TMA  A0955928C2RRWOWZN7UC    0.0  2015-06-14     4.0          0.4404\n",
              "2  B0090XWU8S  A0955928C2RRWOWZN7UC    0.0  2017-04-22     4.0          0.0000\n",
              "3  B00FXYTLIK  A0955928C2RRWOWZN7UC    0.0  2015-07-10     4.0          0.7264\n",
              "4  B00HMZG3YS  A0955928C2RRWOWZN7UC    0.0  2015-07-10     4.0          0.6369"
            ]
          },
          "execution_count": 9,
          "metadata": {},
          "output_type": "execute_result"
        }
      ],
      "source": [
        "df = pd.read_csv('/home/sjkim/recommendSystem/finalproject/change_df.csv',index_col=0)\n",
        "df = df[['user_id','item_id','votes','timestamp','rating','compound_score']]\n",
        "df.head()"
      ]
    },
    {
      "cell_type": "code",
      "execution_count": 10,
      "metadata": {
        "id": "qmX0YKPwfSYP"
      },
      "outputs": [],
      "source": [
        "df['rating'] = df['rating'].astype(int)\n",
        "df['votes'] = df['votes'].astype(int)"
      ]
    },
    {
      "cell_type": "code",
      "execution_count": 11,
      "metadata": {
        "id": "5uARnQk1fkgN"
      },
      "outputs": [],
      "source": [
        "df['timestamp'] = pd.to_datetime(df['timestamp'])\n",
        "df['year']= df['timestamp'].dt.year"
      ]
    },
    {
      "cell_type": "code",
      "execution_count": 12,
      "metadata": {
        "id": "olUXmub6fwEq"
      },
      "outputs": [],
      "source": [
        "def scorechange(n):\n",
        "  if n<=0.1 :\n",
        "    r = 0\n",
        "  else : \n",
        "    r = 1\n",
        "  return r"
      ]
    },
    {
      "cell_type": "code",
      "execution_count": 13,
      "metadata": {
        "id": "LVo_KYxefxXP"
      },
      "outputs": [],
      "source": [
        "def votechange(n):\n",
        "  if n==0:\n",
        "    r = 'not voted'\n",
        "  else :\n",
        "    r = 'voted'\n",
        "  return r"
      ]
    },
    {
      "cell_type": "code",
      "execution_count": 14,
      "metadata": {
        "id": "K7fsLxjKhalv"
      },
      "outputs": [],
      "source": [
        "df['votes'] = df['votes'].apply(votechange)"
      ]
    },
    {
      "cell_type": "code",
      "execution_count": 15,
      "metadata": {
        "id": "8d8ViWkohfz3"
      },
      "outputs": [],
      "source": [
        "#df.rename(columns = {'compound_score' : 'sentiment'}, inplace = True)\n",
        "df['sentiment'] = df['compound_score'].apply(scorechange)"
      ]
    },
    {
      "cell_type": "code",
      "execution_count": 16,
      "metadata": {
        "colab": {
          "base_uri": "https://localhost:8080/",
          "height": 424
        },
        "id": "A3QiALEMi6so",
        "outputId": "6fde72aa-0522-41ef-844f-9b798a2f11c2"
      },
      "outputs": [
        {
          "data": {
            "text/html": [
              "<div>\n",
              "<style scoped>\n",
              "    .dataframe tbody tr th:only-of-type {\n",
              "        vertical-align: middle;\n",
              "    }\n",
              "\n",
              "    .dataframe tbody tr th {\n",
              "        vertical-align: top;\n",
              "    }\n",
              "\n",
              "    .dataframe thead th {\n",
              "        text-align: right;\n",
              "    }\n",
              "</style>\n",
              "<table border=\"1\" class=\"dataframe\">\n",
              "  <thead>\n",
              "    <tr style=\"text-align: right;\">\n",
              "      <th></th>\n",
              "      <th>user_id</th>\n",
              "      <th>item_id</th>\n",
              "      <th>votes</th>\n",
              "      <th>timestamp</th>\n",
              "      <th>rating</th>\n",
              "      <th>compound_score</th>\n",
              "      <th>year</th>\n",
              "      <th>sentiment</th>\n",
              "    </tr>\n",
              "  </thead>\n",
              "  <tbody>\n",
              "    <tr>\n",
              "      <th>0</th>\n",
              "      <td>B00191WVF6</td>\n",
              "      <td>A0955928C2RRWOWZN7UC</td>\n",
              "      <td>not voted</td>\n",
              "      <td>2017-02-17</td>\n",
              "      <td>4</td>\n",
              "      <td>0.0000</td>\n",
              "      <td>2017</td>\n",
              "      <td>0</td>\n",
              "    </tr>\n",
              "    <tr>\n",
              "      <th>1</th>\n",
              "      <td>B005WY3TMA</td>\n",
              "      <td>A0955928C2RRWOWZN7UC</td>\n",
              "      <td>not voted</td>\n",
              "      <td>2015-06-14</td>\n",
              "      <td>4</td>\n",
              "      <td>0.4404</td>\n",
              "      <td>2015</td>\n",
              "      <td>1</td>\n",
              "    </tr>\n",
              "    <tr>\n",
              "      <th>2</th>\n",
              "      <td>B0090XWU8S</td>\n",
              "      <td>A0955928C2RRWOWZN7UC</td>\n",
              "      <td>not voted</td>\n",
              "      <td>2017-04-22</td>\n",
              "      <td>4</td>\n",
              "      <td>0.0000</td>\n",
              "      <td>2017</td>\n",
              "      <td>0</td>\n",
              "    </tr>\n",
              "    <tr>\n",
              "      <th>3</th>\n",
              "      <td>B00FXYTLIK</td>\n",
              "      <td>A0955928C2RRWOWZN7UC</td>\n",
              "      <td>not voted</td>\n",
              "      <td>2015-07-10</td>\n",
              "      <td>4</td>\n",
              "      <td>0.7264</td>\n",
              "      <td>2015</td>\n",
              "      <td>1</td>\n",
              "    </tr>\n",
              "    <tr>\n",
              "      <th>4</th>\n",
              "      <td>B00HMZG3YS</td>\n",
              "      <td>A0955928C2RRWOWZN7UC</td>\n",
              "      <td>not voted</td>\n",
              "      <td>2015-07-10</td>\n",
              "      <td>4</td>\n",
              "      <td>0.6369</td>\n",
              "      <td>2015</td>\n",
              "      <td>1</td>\n",
              "    </tr>\n",
              "    <tr>\n",
              "      <th>...</th>\n",
              "      <td>...</td>\n",
              "      <td>...</td>\n",
              "      <td>...</td>\n",
              "      <td>...</td>\n",
              "      <td>...</td>\n",
              "      <td>...</td>\n",
              "      <td>...</td>\n",
              "      <td>...</td>\n",
              "    </tr>\n",
              "    <tr>\n",
              "      <th>99737</th>\n",
              "      <td>B009AYLDSU</td>\n",
              "      <td>AZZYW4YOE1B6E</td>\n",
              "      <td>voted</td>\n",
              "      <td>2013-12-10</td>\n",
              "      <td>5</td>\n",
              "      <td>0.9798</td>\n",
              "      <td>2013</td>\n",
              "      <td>1</td>\n",
              "    </tr>\n",
              "    <tr>\n",
              "      <th>99738</th>\n",
              "      <td>B00E055H5O</td>\n",
              "      <td>AZZYW4YOE1B6E</td>\n",
              "      <td>not voted</td>\n",
              "      <td>2015-05-25</td>\n",
              "      <td>4</td>\n",
              "      <td>0.8402</td>\n",
              "      <td>2015</td>\n",
              "      <td>1</td>\n",
              "    </tr>\n",
              "    <tr>\n",
              "      <th>99739</th>\n",
              "      <td>B00E8HGWIK</td>\n",
              "      <td>AZZYW4YOE1B6E</td>\n",
              "      <td>not voted</td>\n",
              "      <td>2013-12-01</td>\n",
              "      <td>5</td>\n",
              "      <td>0.9940</td>\n",
              "      <td>2013</td>\n",
              "      <td>1</td>\n",
              "    </tr>\n",
              "    <tr>\n",
              "      <th>99740</th>\n",
              "      <td>B00M58CMTM</td>\n",
              "      <td>AZZYW4YOE1B6E</td>\n",
              "      <td>voted</td>\n",
              "      <td>2014-10-08</td>\n",
              "      <td>5</td>\n",
              "      <td>0.9856</td>\n",
              "      <td>2014</td>\n",
              "      <td>1</td>\n",
              "    </tr>\n",
              "    <tr>\n",
              "      <th>99741</th>\n",
              "      <td>B00VWVZ0V0</td>\n",
              "      <td>AZZYW4YOE1B6E</td>\n",
              "      <td>not voted</td>\n",
              "      <td>2016-12-27</td>\n",
              "      <td>4</td>\n",
              "      <td>0.8417</td>\n",
              "      <td>2016</td>\n",
              "      <td>1</td>\n",
              "    </tr>\n",
              "  </tbody>\n",
              "</table>\n",
              "<p>99742 rows × 8 columns</p>\n",
              "</div>"
            ],
            "text/plain": [
              "          user_id               item_id      votes  timestamp  rating  \\\n",
              "0      B00191WVF6  A0955928C2RRWOWZN7UC  not voted 2017-02-17       4   \n",
              "1      B005WY3TMA  A0955928C2RRWOWZN7UC  not voted 2015-06-14       4   \n",
              "2      B0090XWU8S  A0955928C2RRWOWZN7UC  not voted 2017-04-22       4   \n",
              "3      B00FXYTLIK  A0955928C2RRWOWZN7UC  not voted 2015-07-10       4   \n",
              "4      B00HMZG3YS  A0955928C2RRWOWZN7UC  not voted 2015-07-10       4   \n",
              "...           ...                   ...        ...        ...     ...   \n",
              "99737  B009AYLDSU         AZZYW4YOE1B6E      voted 2013-12-10       5   \n",
              "99738  B00E055H5O         AZZYW4YOE1B6E  not voted 2015-05-25       4   \n",
              "99739  B00E8HGWIK         AZZYW4YOE1B6E  not voted 2013-12-01       5   \n",
              "99740  B00M58CMTM         AZZYW4YOE1B6E      voted 2014-10-08       5   \n",
              "99741  B00VWVZ0V0         AZZYW4YOE1B6E  not voted 2016-12-27       4   \n",
              "\n",
              "       compound_score  year  sentiment  \n",
              "0              0.0000  2017          0  \n",
              "1              0.4404  2015          1  \n",
              "2              0.0000  2017          0  \n",
              "3              0.7264  2015          1  \n",
              "4              0.6369  2015          1  \n",
              "...               ...   ...        ...  \n",
              "99737          0.9798  2013          1  \n",
              "99738          0.8402  2015          1  \n",
              "99739          0.9940  2013          1  \n",
              "99740          0.9856  2014          1  \n",
              "99741          0.8417  2016          1  \n",
              "\n",
              "[99742 rows x 8 columns]"
            ]
          },
          "execution_count": 16,
          "metadata": {},
          "output_type": "execute_result"
        }
      ],
      "source": [
        "df"
      ]
    },
    {
      "cell_type": "code",
      "execution_count": 17,
      "metadata": {
        "id": "efaXflijhilg"
      },
      "outputs": [],
      "source": [
        "from sklearn.utils import shuffle\n",
        "df = shuffle(df,random_state=52)\n",
        "cutoff = int(len(df)*0.7)\n",
        "train_df = df[:cutoff]\n",
        "test_df = df[cutoff:]"
      ]
    },
    {
      "cell_type": "code",
      "execution_count": 18,
      "metadata": {
        "colab": {
          "base_uri": "https://localhost:8080/",
          "height": 206
        },
        "id": "HnFyh2-Zh5Vq",
        "outputId": "a0a81991-773e-4b60-8b21-c154de9f0267"
      },
      "outputs": [
        {
          "data": {
            "text/html": [
              "<div>\n",
              "<style scoped>\n",
              "    .dataframe tbody tr th:only-of-type {\n",
              "        vertical-align: middle;\n",
              "    }\n",
              "\n",
              "    .dataframe tbody tr th {\n",
              "        vertical-align: top;\n",
              "    }\n",
              "\n",
              "    .dataframe thead th {\n",
              "        text-align: right;\n",
              "    }\n",
              "</style>\n",
              "<table border=\"1\" class=\"dataframe\">\n",
              "  <thead>\n",
              "    <tr style=\"text-align: right;\">\n",
              "      <th></th>\n",
              "      <th>user_id</th>\n",
              "      <th>item_id</th>\n",
              "      <th>votes</th>\n",
              "      <th>timestamp</th>\n",
              "      <th>rating</th>\n",
              "      <th>compound_score</th>\n",
              "      <th>year</th>\n",
              "      <th>sentiment</th>\n",
              "    </tr>\n",
              "  </thead>\n",
              "  <tbody>\n",
              "    <tr>\n",
              "      <th>96197</th>\n",
              "      <td>B00CST4LB0</td>\n",
              "      <td>AUKQYNHAWG6MS</td>\n",
              "      <td>not voted</td>\n",
              "      <td>2014-05-28</td>\n",
              "      <td>5</td>\n",
              "      <td>0.8751</td>\n",
              "      <td>2014</td>\n",
              "      <td>1</td>\n",
              "    </tr>\n",
              "    <tr>\n",
              "      <th>84081</th>\n",
              "      <td>B00N3RFC4Q</td>\n",
              "      <td>ADQT2DW2ZXIOH</td>\n",
              "      <td>voted</td>\n",
              "      <td>2016-11-16</td>\n",
              "      <td>5</td>\n",
              "      <td>0.5106</td>\n",
              "      <td>2016</td>\n",
              "      <td>1</td>\n",
              "    </tr>\n",
              "    <tr>\n",
              "      <th>59587</th>\n",
              "      <td>B00GM0OZ4O</td>\n",
              "      <td>A3910BAMCHK81G</td>\n",
              "      <td>not voted</td>\n",
              "      <td>2014-04-05</td>\n",
              "      <td>5</td>\n",
              "      <td>0.8519</td>\n",
              "      <td>2014</td>\n",
              "      <td>1</td>\n",
              "    </tr>\n",
              "    <tr>\n",
              "      <th>99600</th>\n",
              "      <td>B00GPAFHIO</td>\n",
              "      <td>AZUA2OFAQCTB8</td>\n",
              "      <td>not voted</td>\n",
              "      <td>2017-12-30</td>\n",
              "      <td>5</td>\n",
              "      <td>0.4404</td>\n",
              "      <td>2017</td>\n",
              "      <td>1</td>\n",
              "    </tr>\n",
              "    <tr>\n",
              "      <th>33445</th>\n",
              "      <td>B0111MRLES</td>\n",
              "      <td>A2AKXUY0TXZWIX</td>\n",
              "      <td>not voted</td>\n",
              "      <td>2017-12-02</td>\n",
              "      <td>5</td>\n",
              "      <td>0.8336</td>\n",
              "      <td>2017</td>\n",
              "      <td>1</td>\n",
              "    </tr>\n",
              "  </tbody>\n",
              "</table>\n",
              "</div>"
            ],
            "text/plain": [
              "          user_id         item_id      votes  timestamp  rating  \\\n",
              "96197  B00CST4LB0   AUKQYNHAWG6MS  not voted 2014-05-28       5   \n",
              "84081  B00N3RFC4Q   ADQT2DW2ZXIOH      voted 2016-11-16       5   \n",
              "59587  B00GM0OZ4O  A3910BAMCHK81G  not voted 2014-04-05       5   \n",
              "99600  B00GPAFHIO   AZUA2OFAQCTB8  not voted 2017-12-30       5   \n",
              "33445  B0111MRLES  A2AKXUY0TXZWIX  not voted 2017-12-02       5   \n",
              "\n",
              "       compound_score  year  sentiment  \n",
              "96197          0.8751  2014          1  \n",
              "84081          0.5106  2016          1  \n",
              "59587          0.8519  2014          1  \n",
              "99600          0.4404  2017          1  \n",
              "33445          0.8336  2017          1  "
            ]
          },
          "execution_count": 18,
          "metadata": {},
          "output_type": "execute_result"
        }
      ],
      "source": [
        "train_df.head()"
      ]
    },
    {
      "cell_type": "code",
      "execution_count": 19,
      "metadata": {
        "colab": {
          "base_uri": "https://localhost:8080/",
          "height": 455
        },
        "id": "YG-7XvB-h7eY",
        "outputId": "a4870622-eedc-4135-d493-1189ffde2894"
      },
      "outputs": [
        {
          "data": {
            "text/html": [
              "<div>\n",
              "<style scoped>\n",
              "    .dataframe tbody tr th:only-of-type {\n",
              "        vertical-align: middle;\n",
              "    }\n",
              "\n",
              "    .dataframe tbody tr th {\n",
              "        vertical-align: top;\n",
              "    }\n",
              "\n",
              "    .dataframe thead th {\n",
              "        text-align: right;\n",
              "    }\n",
              "</style>\n",
              "<table border=\"1\" class=\"dataframe\">\n",
              "  <thead>\n",
              "    <tr style=\"text-align: right;\">\n",
              "      <th></th>\n",
              "      <th>compound_score</th>\n",
              "    </tr>\n",
              "    <tr>\n",
              "      <th>item_id</th>\n",
              "      <th></th>\n",
              "    </tr>\n",
              "  </thead>\n",
              "  <tbody>\n",
              "    <tr>\n",
              "      <th>A0955928C2RRWOWZN7UC</th>\n",
              "      <td>0.356578</td>\n",
              "    </tr>\n",
              "    <tr>\n",
              "      <th>A100UD67AHFODS</th>\n",
              "      <td>0.885525</td>\n",
              "    </tr>\n",
              "    <tr>\n",
              "      <th>A100WO06OQR8BQ</th>\n",
              "      <td>0.403119</td>\n",
              "    </tr>\n",
              "    <tr>\n",
              "      <th>A1013Q9SD2KIE1</th>\n",
              "      <td>-0.175571</td>\n",
              "    </tr>\n",
              "    <tr>\n",
              "      <th>A1018D502E27E6</th>\n",
              "      <td>0.344614</td>\n",
              "    </tr>\n",
              "    <tr>\n",
              "      <th>...</th>\n",
              "      <td>...</td>\n",
              "    </tr>\n",
              "    <tr>\n",
              "      <th>AZX2RDN9YXZAE</th>\n",
              "      <td>-0.067240</td>\n",
              "    </tr>\n",
              "    <tr>\n",
              "      <th>AZXFS8GCTSQ5R</th>\n",
              "      <td>0.935119</td>\n",
              "    </tr>\n",
              "    <tr>\n",
              "      <th>AZXJJM4F1SY3</th>\n",
              "      <td>0.512910</td>\n",
              "    </tr>\n",
              "    <tr>\n",
              "      <th>AZYWYG2YYXH7O</th>\n",
              "      <td>0.000000</td>\n",
              "    </tr>\n",
              "    <tr>\n",
              "      <th>AZZYW4YOE1B6E</th>\n",
              "      <td>0.542737</td>\n",
              "    </tr>\n",
              "  </tbody>\n",
              "</table>\n",
              "<p>6368 rows × 1 columns</p>\n",
              "</div>"
            ],
            "text/plain": [
              "                      compound_score\n",
              "item_id                             \n",
              "A0955928C2RRWOWZN7UC        0.356578\n",
              "A100UD67AHFODS              0.885525\n",
              "A100WO06OQR8BQ              0.403119\n",
              "A1013Q9SD2KIE1             -0.175571\n",
              "A1018D502E27E6              0.344614\n",
              "...                              ...\n",
              "AZX2RDN9YXZAE              -0.067240\n",
              "AZXFS8GCTSQ5R               0.935119\n",
              "AZXJJM4F1SY3                0.512910\n",
              "AZYWYG2YYXH7O               0.000000\n",
              "AZZYW4YOE1B6E               0.542737\n",
              "\n",
              "[6368 rows x 1 columns]"
            ]
          },
          "execution_count": 19,
          "metadata": {},
          "output_type": "execute_result"
        }
      ],
      "source": [
        "# train set에 있는 아이템별 감성점수 평균\n",
        "mean_sentiment_score = train_df.groupby(['item_id']).mean()['compound_score'].to_frame()\n",
        "mean_sentiment_score"
      ]
    },
    {
      "cell_type": "code",
      "execution_count": 20,
      "metadata": {
        "id": "psm_XXAvjJHD"
      },
      "outputs": [],
      "source": [
        "mean_sentiment_score.rename(columns = {'compound_score' : 'sentiment'}, inplace = True)"
      ]
    },
    {
      "cell_type": "code",
      "execution_count": 21,
      "metadata": {
        "colab": {
          "base_uri": "https://localhost:8080/",
          "height": 455
        },
        "id": "9-fXhxnlfyeJ",
        "outputId": "d76e75f6-d281-44ce-c6d4-b7a3fa05f6cd"
      },
      "outputs": [
        {
          "data": {
            "text/html": [
              "<div>\n",
              "<style scoped>\n",
              "    .dataframe tbody tr th:only-of-type {\n",
              "        vertical-align: middle;\n",
              "    }\n",
              "\n",
              "    .dataframe tbody tr th {\n",
              "        vertical-align: top;\n",
              "    }\n",
              "\n",
              "    .dataframe thead th {\n",
              "        text-align: right;\n",
              "    }\n",
              "</style>\n",
              "<table border=\"1\" class=\"dataframe\">\n",
              "  <thead>\n",
              "    <tr style=\"text-align: right;\">\n",
              "      <th></th>\n",
              "      <th>sentiment</th>\n",
              "    </tr>\n",
              "    <tr>\n",
              "      <th>item_id</th>\n",
              "      <th></th>\n",
              "    </tr>\n",
              "  </thead>\n",
              "  <tbody>\n",
              "    <tr>\n",
              "      <th>A0955928C2RRWOWZN7UC</th>\n",
              "      <td>1</td>\n",
              "    </tr>\n",
              "    <tr>\n",
              "      <th>A100UD67AHFODS</th>\n",
              "      <td>1</td>\n",
              "    </tr>\n",
              "    <tr>\n",
              "      <th>A100WO06OQR8BQ</th>\n",
              "      <td>1</td>\n",
              "    </tr>\n",
              "    <tr>\n",
              "      <th>A1013Q9SD2KIE1</th>\n",
              "      <td>0</td>\n",
              "    </tr>\n",
              "    <tr>\n",
              "      <th>A1018D502E27E6</th>\n",
              "      <td>1</td>\n",
              "    </tr>\n",
              "    <tr>\n",
              "      <th>...</th>\n",
              "      <td>...</td>\n",
              "    </tr>\n",
              "    <tr>\n",
              "      <th>AZX2RDN9YXZAE</th>\n",
              "      <td>0</td>\n",
              "    </tr>\n",
              "    <tr>\n",
              "      <th>AZXFS8GCTSQ5R</th>\n",
              "      <td>1</td>\n",
              "    </tr>\n",
              "    <tr>\n",
              "      <th>AZXJJM4F1SY3</th>\n",
              "      <td>1</td>\n",
              "    </tr>\n",
              "    <tr>\n",
              "      <th>AZYWYG2YYXH7O</th>\n",
              "      <td>0</td>\n",
              "    </tr>\n",
              "    <tr>\n",
              "      <th>AZZYW4YOE1B6E</th>\n",
              "      <td>1</td>\n",
              "    </tr>\n",
              "  </tbody>\n",
              "</table>\n",
              "<p>6368 rows × 1 columns</p>\n",
              "</div>"
            ],
            "text/plain": [
              "                      sentiment\n",
              "item_id                        \n",
              "A0955928C2RRWOWZN7UC          1\n",
              "A100UD67AHFODS                1\n",
              "A100WO06OQR8BQ                1\n",
              "A1013Q9SD2KIE1                0\n",
              "A1018D502E27E6                1\n",
              "...                         ...\n",
              "AZX2RDN9YXZAE                 0\n",
              "AZXFS8GCTSQ5R                 1\n",
              "AZXJJM4F1SY3                  1\n",
              "AZYWYG2YYXH7O                 0\n",
              "AZZYW4YOE1B6E                 1\n",
              "\n",
              "[6368 rows x 1 columns]"
            ]
          },
          "execution_count": 21,
          "metadata": {},
          "output_type": "execute_result"
        }
      ],
      "source": [
        "mean_sentiment_score['sentiment'] = mean_sentiment_score['sentiment'].apply(scorechange)\n",
        "mean_sentiment_score"
      ]
    },
    {
      "cell_type": "code",
      "execution_count": 22,
      "metadata": {
        "id": "WdpYBQxtjVtJ"
      },
      "outputs": [],
      "source": [
        "# train, test 셋에서 compound 삭제 (사용하지 않을 변수)\n",
        "train_df = train_df.drop('compound_score',axis=1)\n",
        "test_df = test_df.drop('compound_score',axis=1)"
      ]
    },
    {
      "cell_type": "code",
      "execution_count": 23,
      "metadata": {
        "id": "_Cy4eyZgicdf"
      },
      "outputs": [],
      "source": [
        "# test 셋에서 감성점수(sentiment) 삭제\n",
        "test_df = test_df.drop('sentiment',axis=1)"
      ]
    },
    {
      "cell_type": "code",
      "execution_count": 24,
      "metadata": {
        "colab": {
          "base_uri": "https://localhost:8080/",
          "height": 206
        },
        "id": "-BftRqfDih9U",
        "outputId": "ffc9f2cc-6c05-410d-888f-49e0e2071228"
      },
      "outputs": [
        {
          "data": {
            "text/html": [
              "<div>\n",
              "<style scoped>\n",
              "    .dataframe tbody tr th:only-of-type {\n",
              "        vertical-align: middle;\n",
              "    }\n",
              "\n",
              "    .dataframe tbody tr th {\n",
              "        vertical-align: top;\n",
              "    }\n",
              "\n",
              "    .dataframe thead th {\n",
              "        text-align: right;\n",
              "    }\n",
              "</style>\n",
              "<table border=\"1\" class=\"dataframe\">\n",
              "  <thead>\n",
              "    <tr style=\"text-align: right;\">\n",
              "      <th></th>\n",
              "      <th>item_id</th>\n",
              "      <th>sentiment</th>\n",
              "      <th>user_id</th>\n",
              "      <th>votes</th>\n",
              "      <th>timestamp</th>\n",
              "      <th>rating</th>\n",
              "      <th>year</th>\n",
              "    </tr>\n",
              "  </thead>\n",
              "  <tbody>\n",
              "    <tr>\n",
              "      <th>0</th>\n",
              "      <td>A0955928C2RRWOWZN7UC</td>\n",
              "      <td>1</td>\n",
              "      <td>B005WY3TMA</td>\n",
              "      <td>not voted</td>\n",
              "      <td>2015-06-14</td>\n",
              "      <td>4</td>\n",
              "      <td>2015</td>\n",
              "    </tr>\n",
              "    <tr>\n",
              "      <th>1</th>\n",
              "      <td>A0955928C2RRWOWZN7UC</td>\n",
              "      <td>1</td>\n",
              "      <td>B0090XWU8S</td>\n",
              "      <td>not voted</td>\n",
              "      <td>2017-04-22</td>\n",
              "      <td>4</td>\n",
              "      <td>2017</td>\n",
              "    </tr>\n",
              "    <tr>\n",
              "      <th>2</th>\n",
              "      <td>A0955928C2RRWOWZN7UC</td>\n",
              "      <td>1</td>\n",
              "      <td>B00NIYJL64</td>\n",
              "      <td>not voted</td>\n",
              "      <td>2017-02-17</td>\n",
              "      <td>4</td>\n",
              "      <td>2017</td>\n",
              "    </tr>\n",
              "    <tr>\n",
              "      <th>3</th>\n",
              "      <td>A100UD67AHFODS</td>\n",
              "      <td>1</td>\n",
              "      <td>B00HPQ0G88</td>\n",
              "      <td>voted</td>\n",
              "      <td>2014-01-30</td>\n",
              "      <td>5</td>\n",
              "      <td>2014</td>\n",
              "    </tr>\n",
              "    <tr>\n",
              "      <th>4</th>\n",
              "      <td>A100UD67AHFODS</td>\n",
              "      <td>1</td>\n",
              "      <td>B007G5NNOW</td>\n",
              "      <td>not voted</td>\n",
              "      <td>2015-04-10</td>\n",
              "      <td>5</td>\n",
              "      <td>2015</td>\n",
              "    </tr>\n",
              "  </tbody>\n",
              "</table>\n",
              "</div>"
            ],
            "text/plain": [
              "                item_id  sentiment     user_id      votes  timestamp  rating  \\\n",
              "0  A0955928C2RRWOWZN7UC          1  B005WY3TMA  not voted 2015-06-14       4   \n",
              "1  A0955928C2RRWOWZN7UC          1  B0090XWU8S  not voted 2017-04-22       4   \n",
              "2  A0955928C2RRWOWZN7UC          1  B00NIYJL64  not voted 2017-02-17       4   \n",
              "3        A100UD67AHFODS          1  B00HPQ0G88      voted 2014-01-30       5   \n",
              "4        A100UD67AHFODS          1  B007G5NNOW  not voted 2015-04-10       5   \n",
              "\n",
              "   year  \n",
              "0  2015  \n",
              "1  2017  \n",
              "2  2017  \n",
              "3  2014  \n",
              "4  2015  "
            ]
          },
          "execution_count": 24,
          "metadata": {},
          "output_type": "execute_result"
        }
      ],
      "source": [
        "# test 셋에 train set에 있는 감성점수 붙이기(치팅방지)\n",
        "test_df = pd.merge(mean_sentiment_score,test_df,how='inner',on='item_id')\n",
        "test_df.head()"
      ]
    },
    {
      "cell_type": "code",
      "execution_count": 25,
      "metadata": {
        "id": "nrTe9cBDijTp"
      },
      "outputs": [],
      "source": [
        "# User encoding\n",
        "user_dict = {}\n",
        "for i in set(df['user_id']):\n",
        "    user_dict[i] = len(user_dict)\n",
        "n_user = len(user_dict)\n",
        "# Item encoding\n",
        "item_dict = {}\n",
        "start_point = n_user\n",
        "for i in set(df['item_id']):\n",
        "    item_dict[i] = start_point + len(item_dict)\n",
        "n_item = len(item_dict)\n",
        "start_point += n_item\n",
        "\n",
        "\n",
        "# vote encoding\n",
        "vote_dict = {}\n",
        "for i in set(df['votes']):\n",
        "    vote_dict[i] = start_point + len(vote_dict)\n",
        "n_vote = len(vote_dict)\n",
        "start_point += n_vote\n",
        "\n",
        "#year encoding\n",
        "year_dict = {}\n",
        "for i in set(df['year']):\n",
        "    year_dict[i] = start_point + len(year_dict)\n",
        "n_year = len(year_dict)\n",
        "start_point += n_year\n",
        "\n",
        "# sentiment encoding\n",
        "sentiment_dict = {}\n",
        "for i in set(df['sentiment']):\n",
        "    sentiment_dict[i] = start_point + len(sentiment_dict)\n",
        "n_sentiment = len(sentiment_dict)\n",
        "start_point += n_sentiment"
      ]
    },
    {
      "cell_type": "code",
      "execution_count": 26,
      "metadata": {
        "id": "QEjS1BRyjy3H"
      },
      "outputs": [],
      "source": [
        "def RMSE(y_true, y_pred):\n",
        "    return np.sqrt(np.mean((np.array(y_true) - np.array(y_pred))**2))"
      ]
    },
    {
      "cell_type": "code",
      "execution_count": 27,
      "metadata": {
        "id": "8HMJA0Sdj0VI"
      },
      "outputs": [],
      "source": [
        "class FM():\n",
        "    def __init__(self, N, K, train_data, test_data, train_y, test_y, alpha, beta, iterations=100, tolerance=0.005, l2_reg=True, verbose=True):\n",
        "        self.K = K          # Number of latent factors\n",
        "        self.N = N          # Number of x (variables)\n",
        "        # self.n_cases = len(data)            # N of observations\n",
        "        self.alpha = alpha\n",
        "        self.beta = beta\n",
        "        self.iterations = iterations\n",
        "        self.l2_reg = l2_reg\n",
        "        self.tolerance = tolerance\n",
        "        self.verbose = verbose\n",
        "        # w 초기화\n",
        "        self.w = np.random.normal(scale=1./self.N, size=(self.N))\n",
        "        # v 초기화\n",
        "        self.v = np.random.normal(scale=1./self.K, size=(self.N, self.K))\n",
        "        # Train/Test 분리\n",
        "        self.train_x = train_data\n",
        "        self.test_x = test_data\n",
        "        self.train_y = train_y\n",
        "        self.test_y = test_y\n",
        "   \n",
        "    def test(self):                                     # Training 하면서 RMSE 계산 \n",
        "        # SGD를 iterations 숫자만큼 수행\n",
        "        best_RMSE = 10000\n",
        "        best_iteration = 0\n",
        "        training_process = []\n",
        "        best_pred = []\n",
        "        for i in range(self.iterations):\n",
        "            rmse1 = self.sgd(self.train_x, self.train_y)        # SGD & Train RMSE 계산\n",
        "            y_pred, rmse2 = self.test_rmse(self.test_x, self.test_y)    # Test RMSE 계산    \n",
        "            training_process.append((i, rmse1, rmse2))\n",
        "            if self.verbose:\n",
        "                if (i+1) % 10 == 0:\n",
        "                    print(\"Iteration: %d ; Train RMSE = %.6f ; Test RMSE = %.6f\" % (i+1, rmse1, rmse2))\n",
        "            if best_RMSE > rmse2:                       # New best record\n",
        "                best_RMSE = rmse2\n",
        "                best_iteration = i\n",
        "                best_pred = y_pred\n",
        "            elif (rmse2 - best_RMSE) > self.tolerance:  # RMSE is increasing over tolerance\n",
        "                break\n",
        "        print(f'-----fm_test : {best_iteration}, {best_RMSE}')\n",
        "        return training_process, best_pred, best_RMSE\n",
        "        \n",
        "    # w, v 업데이트를 위한 Stochastic gradient descent \n",
        "    def sgd(self, x_data, y_data):\n",
        "        y_pred = []\n",
        "        for data, y in zip(x_data, y_data):\n",
        "            x_idx = data[0]\n",
        "            x_0 = np.array(data[1])     # xi axis=0 [1, 2, 3]\n",
        "            x_1 = x_0.reshape(-1, 1)    # xi axis=1 [[1], [2], [3]]\n",
        "    \n",
        "            # biases\n",
        "            bias_score = np.sum(self.w[x_idx] * x_0)\n",
        "            \n",
        "            # score 계산\n",
        "            vx = self.v[x_idx] * (x_1)          # v matrix * x\n",
        "            sum_vx = np.sum(vx, axis=0)         # sigma(vx)\n",
        "            sum_vx_2 = np.sum(vx * vx, axis=0)  # ( v matrix * x )의 제곱\n",
        "            latent_score = 0.5 * np.sum(np.square(sum_vx) - sum_vx_2)\n",
        "\n",
        "            # 예측값 계산\n",
        "            y_hat = bias_score + latent_score\n",
        "            y_pred.append(y_hat)\n",
        "            error = y - y_hat\n",
        "            # w, v 업데이트\n",
        "            if self.l2_reg:     # regularization이 있는 경우\n",
        "                self.w[x_idx] += error * self.alpha * (x_0 - self.beta * self.w[x_idx])\n",
        "                self.v[x_idx] += error * self.alpha * ((x_1) * sum(vx) - (vx * x_1) - self.beta * self.v[x_idx])\n",
        "            else:               # regularization이 없는 경우\n",
        "                self.w[x_idx] += error * self.alpha * x_0\n",
        "                self.v[x_idx] += error * self.alpha * ((x_1) * sum(vx) - (vx * x_1))\n",
        "        return RMSE(y_data, y_pred)\n",
        "            \n",
        "    def test_rmse(self, x_data, y_data):\n",
        "        y_pred = []\n",
        "        for data , y in zip(x_data, y_data):\n",
        "            y_hat = self.predict(data[0], data[1])\n",
        "            y_pred.append(y_hat)\n",
        "        return np.array(y_pred), RMSE(y_data, y_pred)\n",
        "\n",
        "    def predict(self, idx, x):\n",
        "        # idx = self.user_id_index[idx]\n",
        "        # x = self.item_id_index[x]\n",
        "        x_0 = np.array(x)\n",
        "        x_1 = x_0.reshape(-1, 1)\n",
        "\n",
        "        # biases\n",
        "        bias_score = np.sum(self.w[idx] * x_0)\n",
        "\n",
        "        # score 계산\n",
        "        vx = self.v[idx] * (x_1)\n",
        "        sum_vx = np.sum(vx, axis=0)\n",
        "        sum_vx_2 = np.sum(vx * vx, axis=0)\n",
        "        latent_score = 0.5 * np.sum(np.square(sum_vx) - sum_vx_2)\n",
        "\n",
        "        # 예측값 계산\n",
        "        y_hat = bias_score + latent_score\n",
        "        return y_hat\n",
        "    \n",
        "    # def get_one_prediction(self, user_id, item_id) :\n",
        "    #     return self.predict(self.user_id_index[user_id], self.item_id_index[item_id])"
      ]
    },
    {
      "cell_type": "code",
      "execution_count": 28,
      "metadata": {
        "id": "DwnI0Clhj3uQ"
      },
      "outputs": [],
      "source": [
        "class NEW_MF():\n",
        "    # Initializing the object\n",
        "    def __init__(self, ratings, K, alpha, beta, iterations, tolerance=0.005, verbose=True):\n",
        "        self.R = np.array(ratings)\n",
        "        # user_id, movie_id를 R의 index와 매칭하기 위한 dictionary 생성\n",
        "        item_id_index = []\n",
        "        index_item_id = []\n",
        "        for i, one_id in enumerate(ratings):\n",
        "            item_id_index.append([one_id, i])\n",
        "            index_item_id.append([i, one_id])\n",
        "        self.item_id_index = dict(item_id_index)\n",
        "        self.index_item_id = dict(index_item_id)        \n",
        "        user_id_index = []\n",
        "        index_user_id = []\n",
        "        for i, one_id in enumerate(ratings.T):\n",
        "            user_id_index.append([one_id, i])\n",
        "            index_user_id.append([i, one_id])\n",
        "        self.user_id_index = dict(user_id_index)\n",
        "        self.index_user_id = dict(index_user_id)\n",
        "        # 다른 변수 초기화\n",
        "        self.num_users, self.num_items = np.shape(self.R)\n",
        "        self.K = K\n",
        "        self.alpha = alpha\n",
        "        self.beta = beta\n",
        "        self.iterations = iterations\n",
        "        self.tolerance = tolerance\n",
        "        self.verbose = verbose\n",
        "\n",
        "    # 테스트 셋을 선정하는 메소드 \n",
        "    def set_test(self, ratings_test):                           # Setting test set\n",
        "        test_set = []\n",
        "        for i in range(len(ratings_test)):                      # Selected ratings\n",
        "            x = self.user_id_index[ratings_test.iloc[i,0]]      # Getting R indice for the given user_id and movie_id\n",
        "            y = self.item_id_index[ratings_test.iloc[i,1]]\n",
        "            z = ratings_test.iloc[i,2]\n",
        "            test_set.append([x, y, z])\n",
        "            self.R[x, y] = 0                    # Setting test set ratings to 0\n",
        "        self.test_set = test_set\n",
        "        return test_set                         # Return test set\n",
        "\n",
        "    def test(self):                             # Training 하면서 test set의 정확도를 계산하는 메소드 \n",
        "        # Initializing user-feature and movie-feature matrix\n",
        "        self.P = np.random.normal(scale=1./self.K, size=(self.num_users, self.K))\n",
        "        self.Q = np.random.normal(scale=1./self.K, size=(self.num_items, self.K))\n",
        "\n",
        "        # Initializing the bias terms\n",
        "        self.b_u = np.zeros(self.num_users)\n",
        "        self.b_d = np.zeros(self.num_items)\n",
        "        self.b = np.mean(self.R[self.R.nonzero()])\n",
        "\n",
        "        # List of training samples\n",
        "        rows, columns = self.R.nonzero()\n",
        "        self.samples = [(i,j, self.R[i,j]) for i, j in zip(rows, columns)]\n",
        "\n",
        "        # Stochastic gradient descent for given number of iterations\n",
        "        best_RMSE = 10000\n",
        "        best_iteration = 0\n",
        "        training_process = []\n",
        "        for i in range(self.iterations):\n",
        "            np.random.shuffle(self.samples)\n",
        "            self.sgd()\n",
        "            rmse1 = self.rmse()\n",
        "            rmse2 = self.test_rmse()\n",
        "            training_process.append((i, rmse1, rmse2))\n",
        "            if self.verbose:\n",
        "                if (i+1) % 10 == 0:\n",
        "                    print(\"Iteration: %d ; Train RMSE = %.6f ; Test RMSE = %.6f\" % (i+1, rmse1, rmse2))\n",
        "            if best_RMSE > rmse2:                      # New best record\n",
        "                best_RMSE = rmse2\n",
        "                best_iteration = i\n",
        "            elif (rmse2 - best_RMSE) > self.tolerance: # RMSE is increasing over tolerance\n",
        "                break\n",
        "        print(f'-----mf_test :  {best_iteration}, {best_RMSE}')\n",
        "        return training_process\n",
        "\n",
        "    # Stochastic gradient descent to get optimized P and Q matrix\n",
        "    def sgd(self):\n",
        "        for i, j, r in self.samples:\n",
        "            prediction = self.get_prediction(i, j)\n",
        "            e = (r - prediction)\n",
        "\n",
        "            self.b_u[i] += self.alpha * (e - self.beta * self.b_u[i])\n",
        "            self.b_d[j] += self.alpha * (e - self.beta * self.b_d[j])\n",
        "\n",
        "            self.Q[j, :] += self.alpha * (e * self.P[i, :] - self.beta * self.Q[j,:])\n",
        "            self.P[i, :] += self.alpha * (e * self.Q[j, :] - self.beta * self.P[i,:])\n",
        "\n",
        "    # Computing mean squared error\n",
        "    def rmse(self):\n",
        "        xs, ys = self.R.nonzero()\n",
        "        self.predictions = []\n",
        "        self.errors = []\n",
        "        for x, y in zip(xs, ys):\n",
        "            prediction = self.get_prediction(x, y)\n",
        "            self.predictions.append(prediction)\n",
        "            self.errors.append(self.R[x, y] - prediction)\n",
        "        self.predictions = np.array(self.predictions)\n",
        "        self.errors = np.array(self.errors)\n",
        "        return np.sqrt(np.mean(self.errors**2))\n",
        "\n",
        "    # Test RMSE 계산하는 method \n",
        "    def test_rmse(self):\n",
        "        error = 0\n",
        "        for one_set in self.test_set:\n",
        "            predicted = self.get_prediction(one_set[0], one_set[1])\n",
        "            error += pow(one_set[2] - predicted, 2)\n",
        "        return np.sqrt(error/len(self.test_set))\n",
        "\n",
        "    # Ratings for user i and moive j\n",
        "    def get_prediction(self, i, j):\n",
        "        prediction = self.b + self.b_u[i] + self.b_d[j] + self.P[i, :].dot(self.Q[j, :].T)\n",
        "        return prediction\n",
        "\n",
        "    # Ratings for user_id and moive_id\n",
        "    def get_one_prediction(self, user_id, movie_id):\n",
        "        return self.get_prediction(self.user_id_index[user_id], self.item_id_index[movie_id])\n",
        "    "
      ]
    },
    {
      "cell_type": "code",
      "execution_count": 29,
      "metadata": {
        "colab": {
          "base_uri": "https://localhost:8080/"
        },
        "id": "dCSr5gS5j5aB",
        "outputId": "0c1d352b-861e-4be0-ac3a-c32c68dc66a9"
      },
      "outputs": [
        {
          "data": {
            "text/plain": [
              "10097"
            ]
          },
          "execution_count": 29,
          "metadata": {},
          "output_type": "execute_result"
        }
      ],
      "source": [
        "# Total number of x\n",
        "num_x = start_point             \n",
        "num_x"
      ]
    },
    {
      "cell_type": "code",
      "execution_count": 30,
      "metadata": {
        "id": "RTAueeUnj_nD"
      },
      "outputs": [],
      "source": [
        "def generate_x(x) :\n",
        "    # Generate X data\n",
        "    data = []\n",
        "    y = []\n",
        "    w0 = np.mean(x['rating'])\n",
        "    for i in range(len(x)):\n",
        "        case = x.iloc[i]\n",
        "        x_index = []\n",
        "        x_value = []\n",
        "        x_index.append(user_dict[case['user_id']])     # User id encoding\n",
        "        x_value.append(1.)\n",
        "        x_index.append(item_dict[case['item_id']])    # item id encoding\n",
        "        x_value.append(1.)\n",
        "        x_index.append(vote_dict[case['votes']])   # vote encoding\n",
        "        x_value.append(1.)\n",
        "        x_index.append(year_dict[case['year']])       # year encoding\n",
        "        x_value.append(1.)\n",
        "        x_index.append(sentiment_dict[case['sentiment']]) #sentiment encoding\n",
        "        x_value.append(1.)\n",
        "\n",
        "        data.append([x_index, x_value])\n",
        "        y.append(case['rating'] - w0)\n",
        "        if (i % 10000) == 0:\n",
        "            print('Encoding ', i, ' cases...')\n",
        "    return data, y"
      ]
    },
    {
      "cell_type": "code",
      "execution_count": 31,
      "metadata": {
        "colab": {
          "base_uri": "https://localhost:8080/"
        },
        "id": "YCXlqTkykEF9",
        "outputId": "813d180c-ecca-4854-bc25-27d5060f5de9"
      },
      "outputs": [
        {
          "name": "stdout",
          "output_type": "stream",
          "text": [
            "Encoding  0  cases...\n",
            "Encoding  10000  cases...\n",
            "Encoding  20000  cases...\n",
            "Encoding  30000  cases...\n",
            "Encoding  40000  cases...\n",
            "Encoding  50000  cases...\n",
            "Encoding  60000  cases...\n",
            "Encoding  0  cases...\n",
            "Encoding  10000  cases...\n",
            "Encoding  20000  cases...\n"
          ]
        }
      ],
      "source": [
        "train_data, train_y = generate_x(train_df) \n",
        "test_data, test_y = generate_x(test_df) "
      ]
    },
    {
      "cell_type": "code",
      "execution_count": 32,
      "metadata": {
        "colab": {
          "base_uri": "https://localhost:8080/"
        },
        "id": "rhWPbIr4kFui",
        "outputId": "10faa955-5484-4139-d21c-d25248ed8882"
      },
      "outputs": [
        {
          "name": "stdout",
          "output_type": "stream",
          "text": [
            "Iteration: 10 ; Train RMSE = 0.943037 ; Test RMSE = 0.953951\n",
            "Iteration: 20 ; Train RMSE = 0.911082 ; Test RMSE = 0.936840\n",
            "Iteration: 30 ; Train RMSE = 0.889201 ; Test RMSE = 0.926487\n",
            "Iteration: 40 ; Train RMSE = 0.873454 ; Test RMSE = 0.919973\n",
            "Iteration: 50 ; Train RMSE = 0.861766 ; Test RMSE = 0.915853\n",
            "Iteration: 60 ; Train RMSE = 0.852884 ; Test RMSE = 0.913257\n",
            "Iteration: 70 ; Train RMSE = 0.846002 ; Test RMSE = 0.911676\n",
            "Iteration: 80 ; Train RMSE = 0.840580 ; Test RMSE = 0.910776\n",
            "Iteration: 90 ; Train RMSE = 0.836245 ; Test RMSE = 0.910319\n",
            "Iteration: 100 ; Train RMSE = 0.832728 ; Test RMSE = 0.910193\n",
            "Iteration: 110 ; Train RMSE = 0.829837 ; Test RMSE = 0.910255\n",
            "-----mf_test :  102, 0.9101900212862462\n"
          ]
        }
      ],
      "source": [
        "ratings = df.pivot(index = 'user_id', columns ='item_id', values = 'rating').fillna(0)\n",
        "mf = NEW_MF(ratings, K=16, alpha=0.0013, beta=0.28, iterations=150, tolerance=0.0001, verbose=True)\n",
        "test_x = test_df[['user_id','item_id','rating','votes','sentiment','year']]\n",
        "test_set = mf.set_test(test_x)\n",
        "result = mf.test()"
      ]
    },
    {
      "cell_type": "code",
      "execution_count": 33,
      "metadata": {
        "colab": {
          "base_uri": "https://localhost:8080/"
        },
        "id": "zKsE0oLGkaSr",
        "outputId": "eaaf47a7-c945-4a9d-d0cc-64b0ddf42d82"
      },
      "outputs": [
        {
          "name": "stdout",
          "output_type": "stream",
          "text": [
            "Iteration: 10 ; Train RMSE = 0.962944 ; Test RMSE = 0.981948\n",
            "Iteration: 20 ; Train RMSE = 0.948112 ; Test RMSE = 0.976187\n",
            "Iteration: 30 ; Train RMSE = 0.939026 ; Test RMSE = 0.971910\n",
            "Iteration: 40 ; Train RMSE = 0.927741 ; Test RMSE = 0.966318\n",
            "Iteration: 50 ; Train RMSE = 0.912350 ; Test RMSE = 0.958659\n",
            "Iteration: 60 ; Train RMSE = 0.892243 ; Test RMSE = 0.949095\n",
            "Iteration: 70 ; Train RMSE = 0.868889 ; Test RMSE = 0.939173\n",
            "Iteration: 80 ; Train RMSE = 0.845227 ; Test RMSE = 0.931130\n",
            "Iteration: 90 ; Train RMSE = 0.824102 ; Test RMSE = 0.926600\n",
            "Iteration: 100 ; Train RMSE = 0.806775 ; Test RMSE = 0.925659\n",
            "-----fm_test : 97, 0.9256053574913726\n",
            "FM RMSE: 0.9256053574913726\n"
          ]
        }
      ],
      "source": [
        "fm1 = FM(num_x, 260, train_data, test_data, train_y, test_y, alpha=0.0001, beta=0.007, iterations=900, tolerance=0.0005, l2_reg=True, verbose=True)\n",
        "training_process, result0, rmse = fm1.test()  \n",
        "print('FM RMSE:' , rmse)"
      ]
    },
    {
      "cell_type": "code",
      "execution_count": 34,
      "metadata": {
        "id": "Bg8Exretk32R"
      },
      "outputs": [],
      "source": [
        "def recommender1(recomm_list, mf):\n",
        "    recommendations = []\n",
        "    for i in range(len(recomm_list)):\n",
        "        recommendations.append(mf.get_one_prediction(recomm_list[i,0], recomm_list[i,1]))\n",
        "    return np.array(recommendations)\n",
        "\n",
        "# RMSE 계산을 위한 함수\n",
        "def RMSE2(y_true, y_pred):\n",
        "    return np.sqrt(np.mean((np.array(y_true) - np.array(y_pred))**2))\n",
        "\n",
        "recomm_list = np.array(test_x.loc[:, ['user_id', 'item_id']])        # Data for testing context-DL model\n",
        "result1 = recommender1(recomm_list, mf)"
      ]
    },
    {
      "cell_type": "code",
      "execution_count": 35,
      "metadata": {
        "colab": {
          "base_uri": "https://localhost:8080/"
        },
        "id": "uCtk-piyuQEZ",
        "outputId": "eed28c88-d01a-4973-8d53-b54b9d170ea0"
      },
      "outputs": [
        {
          "name": "stdout",
          "output_type": "stream",
          "text": [
            "Weights - 0.72 : 0.28 ; RMSE = 0.9156467\n"
          ]
        }
      ],
      "source": [
        "weight_rmse=[]\n",
        "i = 0.72\n",
        "weight = [i, 1-i]\n",
        "predictions = []\n",
        "w0 = np.mean(df['rating'])\n",
        "for i, number in enumerate(result0):\n",
        "    predictions.append(result0[i] * weight[0] + (result1[i]- w0) * weight[1])\n",
        "weight_rmse.append([weight[0], round(weight[1],2), round(RMSE2(test_y, predictions),7)])\n",
        "print(\"Weights - %.2f : %.2f ; RMSE = %.7f\" % (weight[0], weight[1], RMSE2(test_y, predictions)))"
      ]
    },
    {
      "cell_type": "markdown",
      "metadata": {
        "id": "qZOdXXPC3srF"
      },
      "source": [
        "#########연습"
      ]
    },
    {
      "cell_type": "code",
      "execution_count": null,
      "metadata": {
        "colab": {
          "base_uri": "https://localhost:8080/"
        },
        "id": "2EVoTps_k-5E",
        "outputId": "5e5eee82-a493-412a-fd8a-0796ca984455"
      },
      "outputs": [
        {
          "name": "stdout",
          "output_type": "stream",
          "text": [
            "Weights - 0.10 : 0.90 ; RMSE = 0.9092892\n",
            "Weights - 0.20 : 0.80 ; RMSE = 0.9088267\n",
            "Weights - 0.30 : 0.70 ; RMSE = 0.9089360\n",
            "Weights - 0.40 : 0.60 ; RMSE = 0.9096168\n",
            "Weights - 0.50 : 0.50 ; RMSE = 0.9108678\n",
            "Weights - 0.60 : 0.40 ; RMSE = 0.9126867\n",
            "Weights - 0.70 : 0.30 ; RMSE = 0.9150702\n",
            "Weights - 0.80 : 0.20 ; RMSE = 0.9180138\n",
            "Weights - 0.90 : 0.10 ; RMSE = 0.9215121\n"
          ]
        }
      ],
      "source": [
        "# 가중치 별 테스트\n",
        "for i in [0.1, 0.2, 0.3, 0.4, 0.5, 0.6, 0.7, 0.8, 0.9]:\n",
        "    weight = [i, 1-i]\n",
        "    predictions = []\n",
        "    w0 = np.mean(df['rating'])\n",
        "    for i, number in enumerate(result0):\n",
        "        predictions.append(result0[i] * weight[0] + (result1[i]-w0) * weight[1])\n",
        "    print(\"Weights - %.2f : %.2f ; RMSE = %.7f\" % (weight[0], weight[1], RMSE2(test_y, predictions)))"
      ]
    },
    {
      "cell_type": "code",
      "execution_count": null,
      "metadata": {
        "colab": {
          "base_uri": "https://localhost:8080/"
        },
        "id": "hxULIT8wlA80",
        "outputId": "f2903198-59cf-4e21-80a0-9fc4087b8b33"
      },
      "outputs": [
        {
          "name": "stdout",
          "output_type": "stream",
          "text": [
            "Weights - 0.29 : 0.71 ; RMSE = 0.9088993\n",
            "Weights - 0.28 : 0.72 ; RMSE = 0.9088684\n",
            "Weights - 0.27 : 0.73 ; RMSE = 0.9088432\n",
            "Weights - 0.26 : 0.74 ; RMSE = 0.9088237\n",
            "Weights - 0.25 : 0.75 ; RMSE = 0.9088099\n",
            "Weights - 0.24 : 0.76 ; RMSE = 0.9088018\n",
            "Weights - 0.23 : 0.77 ; RMSE = 0.9087995\n",
            "Weights - 0.22 : 0.78 ; RMSE = 0.9088028\n",
            "Weights - 0.21 : 0.79 ; RMSE = 0.9088119\n"
          ]
        }
      ],
      "source": [
        "# 가중치 별 테스트\n",
        "for i in [0.71, 0.72, 0.73, 0.74, 0.75, 0.76, 0.77, 0.78, 0.79]:\n",
        "    weight = [1-i, i]\n",
        "    predictions = []\n",
        "    w0 = np.mean(df['rating'])\n",
        "    for i, number in enumerate(result0):\n",
        "        predictions.append(result0[i] * weight[0] + (result1[i]-w0) * weight[1])\n",
        "    print(\"Weights - %.2f : %.2f ; RMSE = %.7f\" % (weight[0], weight[1], RMSE2(test_y, predictions)))"
      ]
    },
    {
      "cell_type": "code",
      "execution_count": null,
      "metadata": {
        "colab": {
          "base_uri": "https://localhost:8080/"
        },
        "id": "36OAyVUpCsFo",
        "outputId": "5a4af551-4e8f-4c5f-f6e3-3d375b03d83a"
      },
      "outputs": [
        {
          "name": "stdout",
          "output_type": "stream",
          "text": [
            "0.9173527\n",
            "0.9173409333333332\n",
            "0.9173346666666667\n",
            "0.9173338333333333\n",
            "0.9173385000000001\n",
            "0.9173485666666666\n",
            "0.9173642000000001\n",
            "0.9173852333333333\n",
            "0.9174117666666667\n"
          ]
        }
      ],
      "source": [
        "r12=[0.9193168, \n",
        "0.9193131,\n",
        "0.9193154,\n",
        "0.9193234,\n",
        "0.9193373,\n",
        "0.9193569,\n",
        "0.9193825,\n",
        "0.9194138,\n",
        "0.9194510]\n",
        "r32=[0.9238420,\n",
        "0.9238413,\n",
        "0.9238454,\n",
        "0.9238544,\n",
        "0.9238683,\n",
        "0.9238870,\n",
        "0.9239106,\n",
        "0.9239391,\n",
        "0.9239724]\n",
        "r52=[0.9088993,\n",
        "0.9088684,\n",
        "0.9088432,\n",
        "0.9088237,\n",
        "0.9088099,\n",
        "0.9088018,\n",
        "0.9087995,\n",
        "0.9088028,\n",
        "0.9088119]\n",
        "for i in range(len(r12)):\n",
        "  print((r12[i]+r32[i]+r52[i])/3)"
      ]
    },
    {
      "cell_type": "code",
      "execution_count": null,
      "metadata": {
        "id": "WmKFEnD0E9hT"
      },
      "outputs": [],
      "source": []
    }
  ],
  "metadata": {
    "colab": {
      "provenance": []
    },
    "kernelspec": {
      "display_name": "Python 3.7.9 ('seongju': conda)",
      "language": "python",
      "name": "python3"
    },
    "language_info": {
      "codemirror_mode": {
        "name": "ipython",
        "version": 3
      },
      "file_extension": ".py",
      "mimetype": "text/x-python",
      "name": "python",
      "nbconvert_exporter": "python",
      "pygments_lexer": "ipython3",
      "version": "3.7.9"
    },
    "vscode": {
      "interpreter": {
        "hash": "4ac64377bdf20d7c56505465f573d42c9a70025c609fb86d41fb4deb22be2428"
      }
    }
  },
  "nbformat": 4,
  "nbformat_minor": 0
}
